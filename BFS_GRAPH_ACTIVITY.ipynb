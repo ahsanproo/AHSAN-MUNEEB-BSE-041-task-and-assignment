{
  "nbformat": 4,
  "nbformat_minor": 0,
  "metadata": {
    "colab": {
      "provenance": [],
      "authorship_tag": "ABX9TyNQ7MPLcPngDh3BoGBQa7by",
      "include_colab_link": true
    },
    "kernelspec": {
      "name": "python3",
      "display_name": "Python 3"
    },
    "language_info": {
      "name": "python"
    }
  },
  "cells": [
    {
      "cell_type": "markdown",
      "metadata": {
        "id": "view-in-github",
        "colab_type": "text"
      },
      "source": [
        "<a href=\"https://colab.research.google.com/github/ahsanproo/AHSAN-MUNEEB-BSE-041-task-and-assignment/blob/main/BFS_GRAPH_ACTIVITY.ipynb\" target=\"_parent\"><img src=\"https://colab.research.google.com/assets/colab-badge.svg\" alt=\"Open In Colab\"/></a>"
      ]
    },
    {
      "cell_type": "code",
      "execution_count": 11,
      "metadata": {
        "colab": {
          "base_uri": "https://localhost:8080/"
        },
        "id": "cFZgW9fJXBNe",
        "outputId": "f07ee9a6-3be6-49c7-95b6-e7359a512fcc"
      },
      "outputs": [
        {
          "output_type": "stream",
          "name": "stdout",
          "text": [
            "['A', 'B', 'D']\n"
          ]
        }
      ],
      "source": [
        "class Node:\n",
        "  def __init__(self,state,parent,actions,totalcost):\n",
        "    self.state=state\n",
        "    self.parent=parent\n",
        "    self.actions=actions\n",
        "    self.totalcost=totalcost\n",
        "graph={'A':Node('A',None,['B','C','E'],None),\n",
        "       'B':Node('B',None,['A','D','E'],None),\n",
        "       'C':Node('C',None,['A','F','G'],None),\n",
        "       'D':Node('D',None,['B','E'],None),\n",
        "       'E':Node('E',None,['A','B','D'],None),\n",
        "       'F':Node('F',None,['C'],None),\n",
        "       'G':Node('G',None,['C'],None),\n",
        "}\n",
        " \n",
        "def actionsequence(graph, initialstate,goalstate):\n",
        "  solution=[goalstate]\n",
        "  currentparent = graph[goalstate].parent\n",
        "  while currentparent != None:\n",
        "    solution.append(currentparent)\n",
        "    currentparent = graph[currentparent].parent\n",
        "  solution.reverse()\n",
        "  print(solution)\n",
        "  return solution\n",
        "\n",
        "def BFS():\n",
        "  initialstate = 'A'\n",
        "  goalstate = 'D'\n",
        "  frontier = [initialstate]\n",
        "  explored = []\n",
        "\n",
        "  while len(frontier)!=0:\n",
        "    currentNode = frontier.pop(0)\n",
        "    explored.append(currentNode)\n",
        "    for child in graph[currentNode].actions:\n",
        "      if child not in frontier and child not in explored:\n",
        "        graph[child].parent = currentNode\n",
        "        if graph[child].state == goalstate:\n",
        "          return actionsequence(graph,initialstate,goalstate)\n",
        "        frontier.append(child)\n",
        "solution = BFS()\n"
      ]
    }
  ]
}