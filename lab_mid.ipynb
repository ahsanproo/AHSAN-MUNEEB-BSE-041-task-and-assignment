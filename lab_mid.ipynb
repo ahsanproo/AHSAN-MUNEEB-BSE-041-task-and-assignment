{
  "nbformat": 4,
  "nbformat_minor": 0,
  "metadata": {
    "colab": {
      "provenance": [],
      "authorship_tag": "ABX9TyPgW5GHIn46DybjPohp+V+Q",
      "include_colab_link": true
    },
    "kernelspec": {
      "name": "python3",
      "display_name": "Python 3"
    },
    "language_info": {
      "name": "python"
    }
  },
  "cells": [
    {
      "cell_type": "markdown",
      "metadata": {
        "id": "view-in-github",
        "colab_type": "text"
      },
      "source": [
        "<a href=\"https://colab.research.google.com/github/ahsanproo/AHSAN-MUNEEB-BSE-041-task-and-assignment/blob/main/lab_mid.ipynb\" target=\"_parent\"><img src=\"https://colab.research.google.com/assets/colab-badge.svg\" alt=\"Open In Colab\"/></a>"
      ]
    },
    {
      "cell_type": "code",
      "execution_count": null,
      "metadata": {
        "id": "20loXnJIeOMz"
      },
      "outputs": [],
      "source": [
        "class Node:\n",
        "  def __init__(self,state,parent,actions,totalcost):\n",
        "    self.state=state\n",
        "    self.parent=parent\n",
        "    self.actions=actions\n",
        "    self.totalcost=totalcost\n",
        "graph={'A':Node('A',None,['B','C','E'],None),\n",
        "       'B':Node('B',None,['A','D','E'],None),\n",
        "       'C':Node('C',None,['A','F','G'],None),\n",
        "       'D':Node('D',None,['B','E'],None),\n",
        "       'E':Node('E',None,['A','B','D'],None),\n",
        "       'F':Node('F',None,['C'],None),\n",
        "       'G':Node('G',None,['C'],None),\n",
        "}\n",
        " "
      ]
    },
    {
      "cell_type": "code",
      "source": [
        "class Node:\n",
        "  def __init__(self,state,parent,actions,totalcost):\n",
        "    self.state=state\n",
        "    self.parent=parent\n",
        "    self.actions=actions\n",
        "    self.totalcost=totalcost\n",
        "graph={'arad':Node('arad',None,['zernid','timisoara','sibiu'],None),\n",
        "       'timisoara':Node('timisoara',None,['lugoj','arad'],None),\n",
        "       'zernid':Node('zernid',None,['arad','oradea'],None),\n",
        "       'sibiu':Node('sibiu',None,['arad','oradea','fagaras','rimnicu vilcea'],None),\n",
        "       'lugoj':Node('lugoj',None,['mehadia','timisoara'],None),\n",
        "       'oradea':Node('oradea',None,['zernid','sibiu'],None),\n",
        "       'mehadia':Node('mehadia',None,['lugoj','drobeta'],None),\n",
        "       'drobeta':Node('drobeta',None,['mehadia','craiova'],None),\n",
        "       'craiova':Node('craiova',None,['drobeta','pitesti','rimnicu vilcea'],None),\n",
        "       'rimnicu vilcea':Node('rimnicu vilcea',None,['craiova','pitesti','sibiu'],None),\n",
        "       'pitesti':Node('pitesti',None,['craiova','rimnicu vilcea','bucharest'],None),\n",
        "       'fagaras':Node('fagaras',None,['sibiu','bucharest'],None),\n",
        "       'bucharest':Node('bucharest',None,['fagaras','pitesti','giurgiu','urziceni'],None),\n",
        "       'giurgiu':Node('giurgiu',None,['bucharest'],None),\n",
        "       'urziceni':Node('urziceni',None,['bucharest','hirsova','vaslui'],None),\n",
        "       'hirsova':Node('hirsova',None,['urziceni','eforie'],None),\n",
        "       'eforie':Node('eforie',None,['hirsova'],None),\n",
        "       'vaslui':Node('vaslui',None,['urziceni','lasi'],None),\n",
        "       'lasi':Node('lasi',None,['vaslui','neamt'],None),\n",
        "       'neamt':Node('neamt',None,['lasi'],None),\n",
        "\n",
        "}\n",
        " \n",
        "def actionsequence(graph, initialstate,goalstate):\n",
        "  solution=[goalstate]\n",
        "  currentparent = graph[goalstate].parent\n",
        "  while currentparent != None:\n",
        "    solution.append(currentparent)\n",
        "    currentparent = graph[currentparent].parent\n",
        "  solution.reverse()\n",
        "  print(solution)\n",
        "  return solution\n",
        "\n",
        "def BFS():\n",
        "  initialstate = 'arad'\n",
        "  goalstate = 'bucharest'\n",
        "  frontier = [initialstate]\n",
        "  explored = []\n",
        "\n",
        "  while len(frontier)!=0:\n",
        "    currentNode = frontier.pop(0)\n",
        "    explored.append(currentNode)\n",
        "    for child in graph[currentNode].actions:\n",
        "      if child not in frontier and child not in explored:\n",
        "        graph[child].parent = currentNode\n",
        "        if graph[child].state == goalstate:\n",
        "          return actionsequence(graph,initialstate,goalstate)\n",
        "        frontier.append(child)\n",
        "solution = BFS()"
      ],
      "metadata": {
        "colab": {
          "base_uri": "https://localhost:8080/"
        },
        "id": "xRRwYkyveVd5",
        "outputId": "ecd76811-00c0-4b19-df59-e9a25852307b"
      },
      "execution_count": null,
      "outputs": [
        {
          "output_type": "stream",
          "name": "stdout",
          "text": [
            "['arad', 'sibiu', 'fagaras', 'bucharest']\n"
          ]
        }
      ]
    },
    {
      "cell_type": "code",
      "source": [
        "class node:\n",
        "  def _init_(self,state,parent,actions,totalcost):\n",
        "    self.state = state\n",
        "    self.parent = parent\n",
        "    self.actions = actions\n",
        "    self.totalcost = totalcost\n",
        "\n",
        "def actionSequence(graph,initialstate,goalstate):\n",
        "  solution = [goalstate]\n",
        "  currentparent = graph[goalstate].parent\n",
        "  \n",
        "  while currentparent != None:\n",
        "    \n",
        "    solution.append(currentparent)\n",
        "    currentparent = graph[currentparent].parent\n",
        "\n",
        "  solution.reverse()\n",
        "  return solution\n",
        "graph = {'A': node('A',None,['B','C','E'],None),\n",
        "           'B': node('B',None,['A','D','E'],None),\n",
        "           'C': node('C',None,['A','F','G'],None),\n",
        "           'D': node('D',None,['B','E'],None),\n",
        "           'E': node('E',None,['A','B','D'],None),\n",
        "           'F': node('F',None,['C'],None),\n",
        "           'G': node('G',None,['C'],None)\n",
        "          }\n",
        "def dfs():\n",
        "  initialstate = 'A'\n",
        "  goalstate = 'D'\n",
        "\n",
        "  frontier = [initialstate]\n",
        "  explored = []\n",
        "  currentChildren = 0\n",
        "  while frontier:\n",
        "    currentnode = frontier.pop(len(frontier)-1)\n",
        "    explored.append(currentnode)\n",
        "    for child in graph[currentnode].actions:\n",
        "      if child not in frontier and child not in explored:\n",
        "        graph[child].parent = currentnode\n",
        "        if graph[child].state == goalstate:\n",
        "          return actionSequence(graph,initialstate,goalstate)\n",
        "        currentChildren=currentChildren+1\n",
        "        frontier.append(child)\n",
        "  if currentChildren == 0 :\n",
        "    del explored[len(explored)-1]\n",
        "solution = dfs()\n",
        "print(solution)"
      ],
      "metadata": {
        "colab": {
          "base_uri": "https://localhost:8080/",
          "height": 244
        },
        "id": "7TM6-8EXlqVn",
        "outputId": "a1d07ef1-b5cd-400a-f649-e7ffd152c2da"
      },
      "execution_count": null,
      "outputs": [
        {
          "output_type": "error",
          "ename": "TypeError",
          "evalue": "ignored",
          "traceback": [
            "\u001b[0;31m---------------------------------------------------------------------------\u001b[0m",
            "\u001b[0;31mTypeError\u001b[0m                                 Traceback (most recent call last)",
            "\u001b[0;32m<ipython-input-25-bbd5a82695b6>\u001b[0m in \u001b[0;36m<cell line: 19>\u001b[0;34m()\u001b[0m\n\u001b[1;32m     17\u001b[0m   \u001b[0msolution\u001b[0m\u001b[0;34m.\u001b[0m\u001b[0mreverse\u001b[0m\u001b[0;34m(\u001b[0m\u001b[0;34m)\u001b[0m\u001b[0;34m\u001b[0m\u001b[0;34m\u001b[0m\u001b[0m\n\u001b[1;32m     18\u001b[0m   \u001b[0;32mreturn\u001b[0m \u001b[0msolution\u001b[0m\u001b[0;34m\u001b[0m\u001b[0;34m\u001b[0m\u001b[0m\n\u001b[0;32m---> 19\u001b[0;31m graph = {'A': node('A',None,['B','C','E'],None),\n\u001b[0m\u001b[1;32m     20\u001b[0m            \u001b[0;34m'B'\u001b[0m\u001b[0;34m:\u001b[0m \u001b[0mnode\u001b[0m\u001b[0;34m(\u001b[0m\u001b[0;34m'B'\u001b[0m\u001b[0;34m,\u001b[0m\u001b[0;32mNone\u001b[0m\u001b[0;34m,\u001b[0m\u001b[0;34m[\u001b[0m\u001b[0;34m'A'\u001b[0m\u001b[0;34m,\u001b[0m\u001b[0;34m'D'\u001b[0m\u001b[0;34m,\u001b[0m\u001b[0;34m'E'\u001b[0m\u001b[0;34m]\u001b[0m\u001b[0;34m,\u001b[0m\u001b[0;32mNone\u001b[0m\u001b[0;34m)\u001b[0m\u001b[0;34m,\u001b[0m\u001b[0;34m\u001b[0m\u001b[0;34m\u001b[0m\u001b[0m\n\u001b[1;32m     21\u001b[0m            \u001b[0;34m'C'\u001b[0m\u001b[0;34m:\u001b[0m \u001b[0mnode\u001b[0m\u001b[0;34m(\u001b[0m\u001b[0;34m'C'\u001b[0m\u001b[0;34m,\u001b[0m\u001b[0;32mNone\u001b[0m\u001b[0;34m,\u001b[0m\u001b[0;34m[\u001b[0m\u001b[0;34m'A'\u001b[0m\u001b[0;34m,\u001b[0m\u001b[0;34m'F'\u001b[0m\u001b[0;34m,\u001b[0m\u001b[0;34m'G'\u001b[0m\u001b[0;34m]\u001b[0m\u001b[0;34m,\u001b[0m\u001b[0;32mNone\u001b[0m\u001b[0;34m)\u001b[0m\u001b[0;34m,\u001b[0m\u001b[0;34m\u001b[0m\u001b[0;34m\u001b[0m\u001b[0m\n",
            "\u001b[0;31mTypeError\u001b[0m: node() takes no arguments"
          ]
        }
      ]
    },
    {
      "cell_type": "code",
      "source": [
        "class node:\n",
        "  def _init_(self,state,parent,actions,totalcost):\n",
        "    self.state = state\n",
        "    self.parent = parent\n",
        "    self.actions = actions\n",
        "    self.totalcost = totalcost\n",
        "\n",
        "def actionSequence(graph,initialstate,goalstate):\n",
        "  solution = [goalstate]\n",
        "  currentparent = graph[goalstate].parent\n",
        "  \n",
        "  while currentparent != None:\n",
        "    \n",
        "    solution.append(currentparent)\n",
        "    currentparent = graph[currentparent].parent\n",
        "\n",
        "  solution.reverse()\n",
        "  return solution\n",
        "\n",
        "def bfs(initialstate,goalstate):\n",
        "  \n",
        "graph = {'A': node('A',None,['B','C','E'],None),\n",
        "           'B': node('B',None,['A','D','E'],None),\n",
        "           'C': node('C',None,['A','F','G'],None),\n",
        "           'D': node('D',None,['B','E'],None),\n",
        "           'E': node('E',None,['A','B','D'],None),\n",
        "           'F': node('F',None,['C'],None),\n",
        "           'G': node('G',None,['C'],None)\n",
        "          }\n",
        "  frontier = [initialstate]\n",
        "  explored = []\n",
        "  while frontier:\n",
        "    currentnode = frontier.pop(0)\n",
        "    explored.append(currentnode)\n",
        "    for child in graph[currentnode].actions:\n",
        "      if child not in frontier and child not in explored:\n",
        "        graph[child].parent = currentnode\n",
        "        if graph[child].state == goalstate:\n",
        "          return actionSequence(graph,initialstate,goalstate)\n",
        "        frontier.append(child)\n",
        "solution = bfs('D','C')\n",
        "print(solution)"
      ],
      "metadata": {
        "colab": {
          "base_uri": "https://localhost:8080/",
          "height": 135
        },
        "id": "-OjPEyL1mbMN",
        "outputId": "2ed63949-aef5-4d14-9071-862b19102211"
      },
      "execution_count": null,
      "outputs": [
        {
          "output_type": "error",
          "ename": "IndentationError",
          "evalue": "ignored",
          "traceback": [
            "\u001b[0;36m  File \u001b[0;32m\"<ipython-input-27-23dc6d48ee2b>\"\u001b[0;36m, line \u001b[0;32m22\u001b[0m\n\u001b[0;31m    graph = {'A': node('A',None,['B','C','E'],None),\u001b[0m\n\u001b[0m    ^\u001b[0m\n\u001b[0;31mIndentationError\u001b[0m\u001b[0;31m:\u001b[0m expected an indented block after function definition on line 20\n"
          ]
        }
      ]
    }
  ]
}