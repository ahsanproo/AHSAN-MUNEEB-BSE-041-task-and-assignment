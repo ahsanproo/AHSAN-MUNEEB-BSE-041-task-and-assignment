{
  "nbformat": 4,
  "nbformat_minor": 0,
  "metadata": {
    "colab": {
      "provenance": [],
      "authorship_tag": "ABX9TyOaZW8HaAl4w4Y+BL3AWZjF",
      "include_colab_link": true
    },
    "kernelspec": {
      "name": "python3",
      "display_name": "Python 3"
    },
    "language_info": {
      "name": "python"
    }
  },
  "cells": [
    {
      "cell_type": "markdown",
      "metadata": {
        "id": "view-in-github",
        "colab_type": "text"
      },
      "source": [
        "<a href=\"https://colab.research.google.com/github/ahsanproo/AHSAN-MUNEEB-BSE-041-task-and-assignment/blob/main/GRAPH_ACTIVTY.ipynb\" target=\"_parent\"><img src=\"https://colab.research.google.com/assets/colab-badge.svg\" alt=\"Open In Colab\"/></a>"
      ]
    },
    {
      "cell_type": "code",
      "execution_count": 1,
      "metadata": {
        "colab": {
          "base_uri": "https://localhost:8080/"
        },
        "id": "e5ftGIuY13SO",
        "outputId": "45ba096c-5f0c-4b24-ec53-405b9eaf9355"
      },
      "outputs": [
        {
          "output_type": "stream",
          "name": "stdout",
          "text": [
            "['arad', 'sibiu', 'fagaras', 'bucharest']\n"
          ]
        }
      ],
      "source": [
        "class Node:\n",
        "  def __init__(self,state,parent,actions,totalcost):\n",
        "    self.state=state\n",
        "    self.parent=parent\n",
        "    self.actions=actions\n",
        "    self.totalcost=totalcost\n",
        "graph={'arad':Node('arad',None,['zernid','timisoara','sibiu'],None),\n",
        "       'timisoara':Node('timisoara',None,['lugoj','arad'],None),\n",
        "       'zernid':Node('zernid',None,['arad','oradea'],None),\n",
        "       'sibiu':Node('sibiu',None,['arad','oradea','fagaras','rimnicu vilcea'],None),\n",
        "       'lugoj':Node('lugoj',None,['mehadia','timisoara'],None),\n",
        "       'oradea':Node('oradea',None,['zernid','sibiu'],None),\n",
        "       'mehadia':Node('mehadia',None,['lugoj','drobeta'],None),\n",
        "       'drobeta':Node('drobeta',None,['mehadia','craiova'],None),\n",
        "       'craiova':Node('craiova',None,['drobeta','pitesti','rimnicu vilcea'],None),\n",
        "       'rimnicu vilcea':Node('rimnicu vilcea',None,['craiova','pitesti','sibiu'],None),\n",
        "       'pitesti':Node('pitesti',None,['craiova','rimnicu vilcea','bucharest'],None),\n",
        "       'fagaras':Node('fagaras',None,['sibiu','bucharest'],None),\n",
        "       'bucharest':Node('bucharest',None,['fagaras','pitesti','giurgiu','urziceni'],None),\n",
        "       'giurgiu':Node('giurgiu',None,['bucharest'],None),\n",
        "       'urziceni':Node('urziceni',None,['bucharest','hirsova','vaslui'],None),\n",
        "       'hirsova':Node('hirsova',None,['urziceni','eforie'],None),\n",
        "       'eforie':Node('eforie',None,['hirsova'],None),\n",
        "       'vaslui':Node('vaslui',None,['urziceni','lasi'],None),\n",
        "       'lasi':Node('lasi',None,['vaslui','neamt'],None),\n",
        "       'neamt':Node('neamt',None,['lasi'],None),\n",
        "\n",
        "}\n",
        " \n",
        "def actionsequence(graph, initialstate,goalstate):\n",
        "  solution=[goalstate]\n",
        "  currentparent = graph[goalstate].parent\n",
        "  while currentparent != None:\n",
        "    solution.append(currentparent)\n",
        "    currentparent = graph[currentparent].parent\n",
        "  solution.reverse()\n",
        "  print(solution)\n",
        "  return solution\n",
        "\n",
        "def BFS():\n",
        "  initialstate = 'arad'\n",
        "  goalstate = 'bucharest'\n",
        "  frontier = [initialstate]\n",
        "  explored = []\n",
        "\n",
        "  while len(frontier)!=0:\n",
        "    currentNode = frontier.pop(0)\n",
        "    explored.append(currentNode)\n",
        "    for child in graph[currentNode].actions:\n",
        "      if child not in frontier and child not in explored:\n",
        "        graph[child].parent = currentNode\n",
        "        if graph[child].state == goalstate:\n",
        "          return actionsequence(graph,initialstate,goalstate)\n",
        "        frontier.append(child)\n",
        "solution = BFS()"
      ]
    }
  ]
}