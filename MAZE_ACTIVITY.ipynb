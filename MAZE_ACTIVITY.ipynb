{
  "nbformat": 4,
  "nbformat_minor": 0,
  "metadata": {
    "colab": {
      "provenance": [],
      "authorship_tag": "ABX9TyNUUAQkWKJpITwZ5maRYu4+",
      "include_colab_link": true
    },
    "kernelspec": {
      "name": "python3",
      "display_name": "Python 3"
    },
    "language_info": {
      "name": "python"
    }
  },
  "cells": [
    {
      "cell_type": "markdown",
      "metadata": {
        "id": "view-in-github",
        "colab_type": "text"
      },
      "source": [
        "<a href=\"https://colab.research.google.com/github/ahsanproo/AHSAN-MUNEEB-BSE-041-task-and-assignment/blob/main/MAZE_ACTIVITY.ipynb\" target=\"_parent\"><img src=\"https://colab.research.google.com/assets/colab-badge.svg\" alt=\"Open In Colab\"/></a>"
      ]
    },
    {
      "cell_type": "code",
      "execution_count": 1,
      "metadata": {
        "colab": {
          "base_uri": "https://localhost:8080/"
        },
        "id": "LIyFvGzi2NfW",
        "outputId": "86552a0d-7748-4e5a-9c62-2c2e9bf35576"
      },
      "outputs": [
        {
          "output_type": "stream",
          "name": "stdout",
          "text": [
            "(3, 3) ->(4, 3) ->(5, 3) ->(6, 3) ->(6, 4) ->(6, 5) ->(6, 6) ->(5, 6) ->(4, 6) ->(3, 6) ->(2, 6) ->(1, 6) ->(1, 5) ->(0, 5)\n"
          ]
        }
      ],
      "source": [
        "maze = [\n",
        "    ['X', 'X', 'X', 'X', 'X', 'E', 'X', 'X'],\n",
        "    ['X', '.', '.', '.', '.', '.', '.', 'X'],\n",
        "    ['X', '.', 'X', 'X', 'X', 'X', '.', 'X'],\n",
        "    ['X', '.', 'X', 'S', 'X', '.', '.', 'X'],\n",
        "    ['X', '.', 'X', '.', 'X', 'X', '.', 'X'],\n",
        "    ['X', '.', 'X', '.', 'X', '.', '.', 'X'],\n",
        "    ['X', '.', '.', '.', '.', '.', '.', 'X'],\n",
        "    ['X', 'X', 'X', 'X', 'X', 'X', 'X', 'X'],\n",
        "\n",
        "]\n",
        "# define the start and end nodes\n",
        "start_node= (3,3)\n",
        "end_node= (0,5)\n",
        "# define the possible moves\n",
        "moves =[(0, 1),(0, -1),(1, 0),(-1, 0)]\n",
        "# define a function to get the neighbors of a node\n",
        "def get_neighbors(node):\n",
        "  neighbors =[]\n",
        "  for move in moves:\n",
        "     neighbor = (node[0] + move[0], node[1] + move[1])\n",
        "     if 0 <= neighbor[0] < len(maze) and 0 <= neighbor[1] < len(maze[0]) and maze[neighbor[0]] [neighbor[1]] != \"X\":\n",
        "                neighbors.append(neighbor)\n",
        "  return neighbors\n",
        "# perform BFS\n",
        "queue =[start_node]\n",
        "visited =set([start_node])\n",
        "parent ={start_node:None}\n",
        "while queue:\n",
        "  node = queue.pop(0)\n",
        "  if node == end_node:\n",
        "      break\n",
        "  for neighbor in get_neighbors(node):\n",
        "    if neighbor not in visited:\n",
        "      visited.add(neighbor)\n",
        "      queue.append(neighbor)\n",
        "      parent[neighbor] = node\n",
        "# reconstruct the path from start to end\n",
        "path = [end_node]\n",
        "while path[-1] != start_node:\n",
        "  path.append(parent[path[-1]])\n",
        "path.reverse()\n",
        "# print the path\n",
        "print(\" ->\".join(str(node) for node in path))\n",
        "                  \n"
      ]
    }
  ]
}