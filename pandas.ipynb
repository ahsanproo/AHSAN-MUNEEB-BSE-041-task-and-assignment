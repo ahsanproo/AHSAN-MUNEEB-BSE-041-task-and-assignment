{
  "nbformat": 4,
  "nbformat_minor": 0,
  "metadata": {
    "colab": {
      "provenance": [],
      "toc_visible": true,
      "authorship_tag": "ABX9TyMkOrvzpICrTX4cC8D7Ng9P",
      "include_colab_link": true
    },
    "kernelspec": {
      "name": "python3",
      "display_name": "Python 3"
    },
    "language_info": {
      "name": "python"
    }
  },
  "cells": [
    {
      "cell_type": "markdown",
      "metadata": {
        "id": "view-in-github",
        "colab_type": "text"
      },
      "source": [
        "<a href=\"https://colab.research.google.com/github/ahsanproo/AHSAN-MUNEEB-BSE-041-task-and-assignment/blob/main/pandas.ipynb\" target=\"_parent\"><img src=\"https://colab.research.google.com/assets/colab-badge.svg\" alt=\"Open In Colab\"/></a>"
      ]
    },
    {
      "cell_type": "code",
      "execution_count": 1,
      "metadata": {
        "colab": {
          "base_uri": "https://localhost:8080/"
        },
        "id": "98ZP8YIt1GtB",
        "outputId": "44861cfe-4e40-423a-c67f-3b80e1dcc280"
      },
      "outputs": [
        {
          "output_type": "stream",
          "name": "stdout",
          "text": [
            "                Name                Email                              Education               Phone                               Work experience\n",
            "0     Sarah Thompson     saraht@gmail.com                Bachelor's in Marketing      (555) 555-1234             Marketing Coordinator at XYZ Inc.\n",
            "1        John Nguyen      johnn@gmail.com           Master's in Computer Science      (555) 555-5678               Software Developer at ABC Corp.\n",
            "2    Emily Rodriguez     emilyr@gmail.com               Bachelor's in Accounting      (555) 555-9012                          Accountant at DEF Co\n",
            "3      Michael Smith   michaels@gmail.com    Master's in Business Administration      (555) 555-3456                    Project Manager at HIJ Inc\n",
            "4           Lisa Kim      lisak@gmail.com           Bachelor's in Graphic Design      (555) 555-7890                    Graphic Designer at KLM Co\n",
            "5        David Patel     davidp@gmail.com   Bachelor's in Mechanical Engineering      (555) 555-2345               Mechanical Engineer at NOP Corp\n",
            "6        Rachel Lee,    rachell@gmail.com                  Master's in Education      (555) 555-6789        High School Teacher at QRS High School\n",
            "7         Eric Brown      ericb@gmail.com               Bachelor's in Psychology      (555) 555-0123        Human Resources Coordinator at TUV Inc\n",
            "8           Eric jon    sarerht@gmail.com                Bachelor's in Marketing      (555) 555-1321                    Graphic Designer at KLM Co\n",
            "9     Samantha Jones  samanthaj@gmail.com               Bachelor's in Journalism      (555) 555-4567                            Writer at WXY News\n",
            "10         Jon Jones      ericb@gmail.com   Bachelor's in Mechanical Engineering  (555) 555-6123#!@#                          Accountant at DEF Co\n",
            "11     Daniel Garcia    danielg@gmail.com   Bachelor's in Electrical Engineering      (555) 555-8901               Electrical Engineer at ZAB Corp\n",
            "12     Olivia Taylor    oliviat@gmail.com            Bachelor's in Public Health      (555) 555-2345       Public Health Coordinator at CDE Health\n",
            "13          Ryan Kim      ryank@gmail.com                    Master's in Finance      (555) 555-6789                  Financial Analyst at EFG Inc\n",
            "14        Grace Park     gracep@gmail.com        Bachelor's in Political Science      (555) 555-0123         Legislative Aide at HJI Senate Office\n",
            "15       Matthew Lee   matthewl@gmail.com     Bachelor's in Computer Engineering      (555) 555-4567                 Software Engineer at KLM Tech\n",
            "16     Ashley Nguyen    ashleyn@gmail.com                  Master's in Marketing      (555) 555-8901                 Marketing Manager at NOP Inc.\n",
            "17  Thomas Rodriguez    thomasr@gmail.com                Bachelor's in Economics      (555) 555-2345                     Economist at QRS Research\n",
            "18  Vanessa Martinez   vanessam@gmail.com    Bachelor's in Environmental Science      (555) 555-6789  Environmental Scientist at TUV Environmental\n",
            "19      Martin Negan                  NaN                  Master's in Marketing      (555) 555-4523                  Financial Analyst at EFG Inc\n",
            "20  Thomas Rodriguez    thomasr@gmail.com                Bachelor's in Economics      (555) 555-2345                     Economist at QRS Research\n",
            "21        Ahmed Raja   Johncena@gmail.com                  Master's in Marketing      (555) 555-2145                  Financial Analyst at EFG Inc\n",
            "22          Raja Zia   Johncena@gmail.com    Master's in Business Administration      (555) 555-6534         Legislative Aide at HJI Senate Office\n"
          ]
        }
      ],
      "source": [
        "import pandas as pd\n",
        "\n",
        "df = pd.read_csv('/content/sample_data/Resumes.csv')\n",
        "\n",
        "print(df.to_string()) "
      ]
    },
    {
      "cell_type": "code",
      "source": [
        "import pandas as pd\n",
        "\n",
        "df = pd.read_csv('/content/sample_data/Resumes.csv')\n",
        "\n",
        "print(df.head(10))"
      ],
      "metadata": {
        "colab": {
          "base_uri": "https://localhost:8080/"
        },
        "id": "0rzJzx-k38QO",
        "outputId": "71d34342-6a19-4aad-b029-4b1ef1db51fa"
      },
      "execution_count": 10,
      "outputs": [
        {
          "output_type": "stream",
          "name": "stdout",
          "text": [
            "              Name                Email                             Education  \\\n",
            "0   Sarah Thompson     saraht@gmail.com               Bachelor's in Marketing   \n",
            "1      John Nguyen      johnn@gmail.com          Master's in Computer Science   \n",
            "2  Emily Rodriguez     emilyr@gmail.com              Bachelor's in Accounting   \n",
            "3    Michael Smith   michaels@gmail.com   Master's in Business Administration   \n",
            "4         Lisa Kim      lisak@gmail.com          Bachelor's in Graphic Design   \n",
            "5      David Patel     davidp@gmail.com  Bachelor's in Mechanical Engineering   \n",
            "6      Rachel Lee,    rachell@gmail.com                 Master's in Education   \n",
            "7       Eric Brown      ericb@gmail.com              Bachelor's in Psychology   \n",
            "8         Eric jon    sarerht@gmail.com               Bachelor's in Marketing   \n",
            "9   Samantha Jones  samanthaj@gmail.com              Bachelor's in Journalism   \n",
            "\n",
            "             Phone                         Work experience  \n",
            "0   (555) 555-1234       Marketing Coordinator at XYZ Inc.  \n",
            "1   (555) 555-5678         Software Developer at ABC Corp.  \n",
            "2   (555) 555-9012                    Accountant at DEF Co  \n",
            "3   (555) 555-3456              Project Manager at HIJ Inc  \n",
            "4   (555) 555-7890              Graphic Designer at KLM Co  \n",
            "5   (555) 555-2345         Mechanical Engineer at NOP Corp  \n",
            "6   (555) 555-6789  High School Teacher at QRS High School  \n",
            "7   (555) 555-0123  Human Resources Coordinator at TUV Inc  \n",
            "8   (555) 555-1321              Graphic Designer at KLM Co  \n",
            "9   (555) 555-4567                      Writer at WXY News  \n"
          ]
        }
      ]
    },
    {
      "cell_type": "code",
      "source": [
        "import pandas as pd\n",
        "\n",
        "df = pd.read_csv('/content/sample_data/Resumes.csv')\n",
        "print(df.tail(10))"
      ],
      "metadata": {
        "colab": {
          "base_uri": "https://localhost:8080/"
        },
        "id": "uw-H8euU6N5_",
        "outputId": "6294149a-33a4-4fdb-b004-45779080400f"
      },
      "execution_count": 13,
      "outputs": [
        {
          "output_type": "stream",
          "name": "stdout",
          "text": [
            "                Name               Email  \\\n",
            "13          Ryan Kim     ryank@gmail.com   \n",
            "14        Grace Park    gracep@gmail.com   \n",
            "15       Matthew Lee  matthewl@gmail.com   \n",
            "16     Ashley Nguyen   ashleyn@gmail.com   \n",
            "17  Thomas Rodriguez   thomasr@gmail.com   \n",
            "18  Vanessa Martinez  vanessam@gmail.com   \n",
            "19      Martin Negan                 NaN   \n",
            "20  Thomas Rodriguez   thomasr@gmail.com   \n",
            "21        Ahmed Raja  Johncena@gmail.com   \n",
            "22          Raja Zia  Johncena@gmail.com   \n",
            "\n",
            "                               Education           Phone  \\\n",
            "13                   Master's in Finance  (555) 555-6789   \n",
            "14       Bachelor's in Political Science  (555) 555-0123   \n",
            "15    Bachelor's in Computer Engineering  (555) 555-4567   \n",
            "16                 Master's in Marketing  (555) 555-8901   \n",
            "17               Bachelor's in Economics  (555) 555-2345   \n",
            "18   Bachelor's in Environmental Science  (555) 555-6789   \n",
            "19                 Master's in Marketing  (555) 555-4523   \n",
            "20               Bachelor's in Economics  (555) 555-2345   \n",
            "21                 Master's in Marketing  (555) 555-2145   \n",
            "22   Master's in Business Administration  (555) 555-6534   \n",
            "\n",
            "                                 Work experience  \n",
            "13                  Financial Analyst at EFG Inc  \n",
            "14         Legislative Aide at HJI Senate Office  \n",
            "15                 Software Engineer at KLM Tech  \n",
            "16                 Marketing Manager at NOP Inc.  \n",
            "17                     Economist at QRS Research  \n",
            "18  Environmental Scientist at TUV Environmental  \n",
            "19                  Financial Analyst at EFG Inc  \n",
            "20                     Economist at QRS Research  \n",
            "21                  Financial Analyst at EFG Inc  \n",
            "22         Legislative Aide at HJI Senate Office  \n"
          ]
        }
      ]
    },
    {
      "cell_type": "code",
      "source": [
        "import pandas as pd\n",
        "\n",
        "df = pd.read_csv('/content/sample_data/Resumes.csv')\n",
        "print(df.info())"
      ],
      "metadata": {
        "colab": {
          "base_uri": "https://localhost:8080/"
        },
        "id": "yut_8CTK6mhR",
        "outputId": "c03af7b8-befe-45ff-a6de-f16b7751df4a"
      },
      "execution_count": 14,
      "outputs": [
        {
          "output_type": "stream",
          "name": "stdout",
          "text": [
            "<class 'pandas.core.frame.DataFrame'>\n",
            "RangeIndex: 23 entries, 0 to 22\n",
            "Data columns (total 5 columns):\n",
            " #   Column           Non-Null Count  Dtype \n",
            "---  ------           --------------  ----- \n",
            " 0   Name             23 non-null     object\n",
            " 1   Email            22 non-null     object\n",
            " 2   Education        23 non-null     object\n",
            " 3   Phone            23 non-null     object\n",
            " 4   Work experience  23 non-null     object\n",
            "dtypes: object(5)\n",
            "memory usage: 1.0+ KB\n",
            "None\n"
          ]
        }
      ]
    },
    {
      "cell_type": "code",
      "source": [
        "import pandas as pd\n",
        "\n",
        "df = pd.read_csv('/content/sample_data/Resumes.csv')\n",
        "\n",
        "print(df.to_string())\n",
        "\n",
        "df.drop_duplicates(inplace = True)\n"
      ],
      "metadata": {
        "colab": {
          "base_uri": "https://localhost:8080/"
        },
        "id": "sqpqMpEC663p",
        "outputId": "33bc675f-244b-4572-b29d-fbeb0263d5fa"
      },
      "execution_count": 15,
      "outputs": [
        {
          "output_type": "stream",
          "name": "stdout",
          "text": [
            "                Name                Email                              Education               Phone                               Work experience\n",
            "0     Sarah Thompson     saraht@gmail.com                Bachelor's in Marketing      (555) 555-1234             Marketing Coordinator at XYZ Inc.\n",
            "1        John Nguyen      johnn@gmail.com           Master's in Computer Science      (555) 555-5678               Software Developer at ABC Corp.\n",
            "2    Emily Rodriguez     emilyr@gmail.com               Bachelor's in Accounting      (555) 555-9012                          Accountant at DEF Co\n",
            "3      Michael Smith   michaels@gmail.com    Master's in Business Administration      (555) 555-3456                    Project Manager at HIJ Inc\n",
            "4           Lisa Kim      lisak@gmail.com           Bachelor's in Graphic Design      (555) 555-7890                    Graphic Designer at KLM Co\n",
            "5        David Patel     davidp@gmail.com   Bachelor's in Mechanical Engineering      (555) 555-2345               Mechanical Engineer at NOP Corp\n",
            "6        Rachel Lee,    rachell@gmail.com                  Master's in Education      (555) 555-6789        High School Teacher at QRS High School\n",
            "7         Eric Brown      ericb@gmail.com               Bachelor's in Psychology      (555) 555-0123        Human Resources Coordinator at TUV Inc\n",
            "8           Eric jon    sarerht@gmail.com                Bachelor's in Marketing      (555) 555-1321                    Graphic Designer at KLM Co\n",
            "9     Samantha Jones  samanthaj@gmail.com               Bachelor's in Journalism      (555) 555-4567                            Writer at WXY News\n",
            "10         Jon Jones      ericb@gmail.com   Bachelor's in Mechanical Engineering  (555) 555-6123#!@#                          Accountant at DEF Co\n",
            "11     Daniel Garcia    danielg@gmail.com   Bachelor's in Electrical Engineering      (555) 555-8901               Electrical Engineer at ZAB Corp\n",
            "12     Olivia Taylor    oliviat@gmail.com            Bachelor's in Public Health      (555) 555-2345       Public Health Coordinator at CDE Health\n",
            "13          Ryan Kim      ryank@gmail.com                    Master's in Finance      (555) 555-6789                  Financial Analyst at EFG Inc\n",
            "14        Grace Park     gracep@gmail.com        Bachelor's in Political Science      (555) 555-0123         Legislative Aide at HJI Senate Office\n",
            "15       Matthew Lee   matthewl@gmail.com     Bachelor's in Computer Engineering      (555) 555-4567                 Software Engineer at KLM Tech\n",
            "16     Ashley Nguyen    ashleyn@gmail.com                  Master's in Marketing      (555) 555-8901                 Marketing Manager at NOP Inc.\n",
            "17  Thomas Rodriguez    thomasr@gmail.com                Bachelor's in Economics      (555) 555-2345                     Economist at QRS Research\n",
            "18  Vanessa Martinez   vanessam@gmail.com    Bachelor's in Environmental Science      (555) 555-6789  Environmental Scientist at TUV Environmental\n",
            "19      Martin Negan                  NaN                  Master's in Marketing      (555) 555-4523                  Financial Analyst at EFG Inc\n",
            "20  Thomas Rodriguez    thomasr@gmail.com                Bachelor's in Economics      (555) 555-2345                     Economist at QRS Research\n",
            "21        Ahmed Raja   Johncena@gmail.com                  Master's in Marketing      (555) 555-2145                  Financial Analyst at EFG Inc\n",
            "22          Raja Zia   Johncena@gmail.com    Master's in Business Administration      (555) 555-6534         Legislative Aide at HJI Senate Office\n"
          ]
        }
      ]
    },
    {
      "cell_type": "code",
      "source": [
        "import pandas as pd\n",
        "\n",
        "df = pd.read_csv('/content/sample_data/Resumes.csv')\n",
        "\n",
        "new_df = df.dropna()\n",
        "\n",
        "print(new_df.to_string())"
      ],
      "metadata": {
        "colab": {
          "base_uri": "https://localhost:8080/"
        },
        "id": "dB-3lqfM9Edv",
        "outputId": "1314e308-a1fe-470f-d8de-fc97468d70e2"
      },
      "execution_count": 16,
      "outputs": [
        {
          "output_type": "stream",
          "name": "stdout",
          "text": [
            "                Name                Email                              Education               Phone                               Work experience\n",
            "0     Sarah Thompson     saraht@gmail.com                Bachelor's in Marketing      (555) 555-1234             Marketing Coordinator at XYZ Inc.\n",
            "1        John Nguyen      johnn@gmail.com           Master's in Computer Science      (555) 555-5678               Software Developer at ABC Corp.\n",
            "2    Emily Rodriguez     emilyr@gmail.com               Bachelor's in Accounting      (555) 555-9012                          Accountant at DEF Co\n",
            "3      Michael Smith   michaels@gmail.com    Master's in Business Administration      (555) 555-3456                    Project Manager at HIJ Inc\n",
            "4           Lisa Kim      lisak@gmail.com           Bachelor's in Graphic Design      (555) 555-7890                    Graphic Designer at KLM Co\n",
            "5        David Patel     davidp@gmail.com   Bachelor's in Mechanical Engineering      (555) 555-2345               Mechanical Engineer at NOP Corp\n",
            "6        Rachel Lee,    rachell@gmail.com                  Master's in Education      (555) 555-6789        High School Teacher at QRS High School\n",
            "7         Eric Brown      ericb@gmail.com               Bachelor's in Psychology      (555) 555-0123        Human Resources Coordinator at TUV Inc\n",
            "8           Eric jon    sarerht@gmail.com                Bachelor's in Marketing      (555) 555-1321                    Graphic Designer at KLM Co\n",
            "9     Samantha Jones  samanthaj@gmail.com               Bachelor's in Journalism      (555) 555-4567                            Writer at WXY News\n",
            "10         Jon Jones      ericb@gmail.com   Bachelor's in Mechanical Engineering  (555) 555-6123#!@#                          Accountant at DEF Co\n",
            "11     Daniel Garcia    danielg@gmail.com   Bachelor's in Electrical Engineering      (555) 555-8901               Electrical Engineer at ZAB Corp\n",
            "12     Olivia Taylor    oliviat@gmail.com            Bachelor's in Public Health      (555) 555-2345       Public Health Coordinator at CDE Health\n",
            "13          Ryan Kim      ryank@gmail.com                    Master's in Finance      (555) 555-6789                  Financial Analyst at EFG Inc\n",
            "14        Grace Park     gracep@gmail.com        Bachelor's in Political Science      (555) 555-0123         Legislative Aide at HJI Senate Office\n",
            "15       Matthew Lee   matthewl@gmail.com     Bachelor's in Computer Engineering      (555) 555-4567                 Software Engineer at KLM Tech\n",
            "16     Ashley Nguyen    ashleyn@gmail.com                  Master's in Marketing      (555) 555-8901                 Marketing Manager at NOP Inc.\n",
            "17  Thomas Rodriguez    thomasr@gmail.com                Bachelor's in Economics      (555) 555-2345                     Economist at QRS Research\n",
            "18  Vanessa Martinez   vanessam@gmail.com    Bachelor's in Environmental Science      (555) 555-6789  Environmental Scientist at TUV Environmental\n",
            "20  Thomas Rodriguez    thomasr@gmail.com                Bachelor's in Economics      (555) 555-2345                     Economist at QRS Research\n",
            "21        Ahmed Raja   Johncena@gmail.com                  Master's in Marketing      (555) 555-2145                  Financial Analyst at EFG Inc\n",
            "22          Raja Zia   Johncena@gmail.com    Master's in Business Administration      (555) 555-6534         Legislative Aide at HJI Senate Office\n"
          ]
        }
      ]
    }
  ]
}